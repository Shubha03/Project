{
  "cells": [
    {
      "cell_type": "code",
      "source": [
        "import matplotlib.pyplot as plt\n",
        "import numpy as np\n",
        "from sklearn import datasets, linear_model\n",
        "from sklearn.metrics import  mean_squared_error\n",
        "\n",
        "diabetes = datasets.load_diabetes()\n",
        "\n",
        "diabetes_X = diabetes.data\n",
        "\n",
        "diabetes_X_train = diabetes_X[:-30]\n",
        "diabetes_X_test = diabetes_X[-30:]\n",
        "\n",
        "diabetes_y_train = diabetes.target[:-30]\n",
        "diabetes_y_test = diabetes.target[-30:]\n",
        "\n",
        "model = linear_model.LinearRegression()\n",
        "\n",
        "model.fit(diabetes_X_train, diabetes_y_train)\n",
        "\n",
        "diabetes_y_predicted = model.predict(diabetes_X_test)\n",
        "\n",
        "print(\"Mean squared error is: \", mean_squared_error(diabetes_y_test, diabetes_y_predicted))\n",
        "\n"
      ],
      "metadata": {
        "id": "Yp1SUKtiaq0y",
        "outputId": "7ef14759-ffb4-4540-b3e9-dd18aba28954",
        "colab": {
          "base_uri": "https://localhost:8080/"
        }
      },
      "execution_count": 6,
      "outputs": [
        {
          "output_type": "stream",
          "name": "stdout",
          "text": [
            "Mean squared error is:  1826.4841712795046\n"
          ]
        }
      ]
    }
  ],
  "metadata": {
    "colab": {
      "name": "Welcome To Colab",
      "provenance": []
    },
    "kernelspec": {
      "display_name": "Python 3",
      "name": "python3"
    }
  },
  "nbformat": 4,
  "nbformat_minor": 0
}